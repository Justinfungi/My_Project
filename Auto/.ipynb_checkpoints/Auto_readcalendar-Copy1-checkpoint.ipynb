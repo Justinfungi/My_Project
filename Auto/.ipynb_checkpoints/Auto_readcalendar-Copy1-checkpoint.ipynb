{
 "cells": [
  {
   "cell_type": "code",
   "execution_count": null,
   "id": "cdc2b0b6",
   "metadata": {
    "ExecuteTime": {
     "start_time": "2022-11-16T18:50:28.775Z"
    }
   },
   "outputs": [],
   "source": [
    "import pyttsx3\n",
    "import keyboard\n",
    "engine = pyttsx3.init()\n",
    "\n",
    "\"\"\" RATE\"\"\"\n",
    "rate = engine.getProperty('rate')   # getting details of current speaking rate\n",
    "print (rate)                        #printing current voice rate\n",
    "engine.setProperty('rate', 150)     # setting up new voice rate\n",
    "\n",
    "\"\"\"VOLUME\"\"\"\n",
    "volume = engine.getProperty('volume')   #getting to know current volume level (min=0 and max=1)\n",
    "print (volume)                          #printing current volume level\n",
    "engine.setProperty('volume',1.0)    # setting up volume level  between 0 and 1"
   ]
  },
  {
   "cell_type": "code",
   "execution_count": null,
   "id": "a4fdab0a",
   "metadata": {
    "ExecuteTime": {
     "end_time": "2022-11-16T18:48:39.590920Z",
     "start_time": "2022-11-16T18:48:39.586919Z"
    }
   },
   "outputs": [],
   "source": [
    "def readline():\n",
    "    \n",
    "    with open(\"3pig.txt\", \"r\", encoding = 'utf-8') as f:\n",
    "        for line in f:\n",
    "            if keyboard.is_pressed(\"esc\"):\n",
    "                engine.stop()\n",
    "            engine.say(line)"
   ]
  },
  {
   "cell_type": "code",
   "execution_count": null,
   "id": "8df618eb",
   "metadata": {
    "ExecuteTime": {
     "start_time": "2022-11-16T18:48:40.570Z"
    }
   },
   "outputs": [],
   "source": [
    "def main():\n",
    "    \n",
    "    engine.say(\"Hi, i'm jarvas. What could i do for you\")\n",
    "    readline()\n",
    "    \n",
    "    engine.runAndWait()\n",
    "\n",
    "main()"
   ]
  }
 ],
 "metadata": {
  "kernelspec": {
   "display_name": "comp3340",
   "language": "python",
   "name": "comp3340"
  },
  "language_info": {
   "codemirror_mode": {
    "name": "ipython",
    "version": 3
   },
   "file_extension": ".py",
   "mimetype": "text/x-python",
   "name": "python",
   "nbconvert_exporter": "python",
   "pygments_lexer": "ipython3",
   "version": "3.7.7"
  },
  "toc": {
   "base_numbering": 1,
   "nav_menu": {},
   "number_sections": true,
   "sideBar": true,
   "skip_h1_title": false,
   "title_cell": "Table of Contents",
   "title_sidebar": "Contents",
   "toc_cell": false,
   "toc_position": {},
   "toc_section_display": true,
   "toc_window_display": false
  }
 },
 "nbformat": 4,
 "nbformat_minor": 5
}
